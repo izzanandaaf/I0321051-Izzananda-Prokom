{
 "cells": [
  {
   "cell_type": "markdown",
   "metadata": {},
   "source": [
    "***\n",
    "<h1 align=\"center\">Exercise 12</h1>\n",
    " \n",
    "***\n",
    "## Exeption\n",
    "## Exercise 12.1\n",
    "\n",
    "Salinlah code yang ada pada contoh 12.1"
   ]
  },
  {
   "cell_type": "code",
   "execution_count": 5,
   "metadata": {},
   "outputs": [
    {
     "name": "stdout",
     "output_type": "stream",
     "text": [
      "An exception occured\n"
     ]
    }
   ],
   "source": [
    "#kerjakan disini\n",
    "try:\n",
    "    print(x)\n",
    "except:\n",
    "    print('An exception occured')"
   ]
  },
  {
   "cell_type": "markdown",
   "metadata": {},
   "source": [
    "## Exercise 12.2\n",
    "\n",
    "Salinlah code yang ada pada contoh 12.2"
   ]
  },
  {
   "cell_type": "code",
   "execution_count": 6,
   "metadata": {},
   "outputs": [
    {
     "name": "stdout",
     "output_type": "stream",
     "text": [
      "teknik\n"
     ]
    }
   ],
   "source": [
    "#kerjakan disini\n",
    "try:\n",
    "    x = 'teknik'\n",
    "    print(x)\n",
    "except:\n",
    "    print('An exception occured')"
   ]
  },
  {
   "cell_type": "markdown",
   "metadata": {},
   "source": [
    "## Exercise 12.3\n",
    "\n",
    "Salinlah code yang ada pada contoh 12.3"
   ]
  },
  {
   "cell_type": "code",
   "execution_count": 3,
   "metadata": {},
   "outputs": [
    {
     "name": "stdout",
     "output_type": "stream",
     "text": [
      "Anda mengetikkan \"sesuatu\"\n"
     ]
    }
   ],
   "source": [
    "#kerjakan disini\n",
    "try:\n",
    "    teks = input('Ketikkan sesuatu: ')\n",
    "except EOFError:\n",
    "    print ('\\nKenapa sudah EOF?')\n",
    "except KeyboardInterrupt:\n",
    "    print ('\\Anda membatalkan operasi')\n",
    "else:\n",
    "    print ('Anda mengetikkan \"%s\"' %teks)"
   ]
  },
  {
   "cell_type": "markdown",
   "metadata": {},
   "source": [
    "## Exercise 12.4\n",
    "\n",
    "Salinlah code yang ada pada contoh 12.4"
   ]
  },
  {
   "cell_type": "code",
   "execution_count": 4,
   "metadata": {},
   "outputs": [
    {
     "name": "stdout",
     "output_type": "stream",
     "text": [
      "Anda mengetikkan \"itu\"\n"
     ]
    }
   ],
   "source": [
    "#kerjakan disini\n",
    "try:\n",
    "    teks = input('Ketikkan sesuatu: ')\n",
    "except EOFError:\n",
    "    print ('\\nKenapa sudah EOF?')\n",
    "except KeyboardInterrupt:\n",
    "    print ('\\Anda membatalkan operasi')\n",
    "else:\n",
    "    print ('Anda mengetikkan \"%s\"' %teks)"
   ]
  },
  {
   "cell_type": "markdown",
   "metadata": {},
   "source": [
    "## Exercise 12.5\n",
    "\n",
    "Salinlah code yang ada pada contoh 12.5"
   ]
  },
  {
   "cell_type": "code",
   "execution_count": 5,
   "metadata": {},
   "outputs": [
    {
     "name": "stdout",
     "output_type": "stream",
     "text": [
      "\n",
      "File ditutup.\n"
     ]
    }
   ],
   "source": [
    "#kerjakan disini\n",
    "import time\n",
    "\n",
    "try:\n",
    "    f = open('coba.txt')\n",
    "    while True:\n",
    "        baris = f.readline()\n",
    "        if len(baris) == 0:\n",
    "            break\n",
    "        print(baris)\n",
    "        time.sleep(2)\n",
    "except KeyboardInterrupt:\n",
    "    print(\"\\nAnda membatalkan operasi\")\n",
    "except FileNotFoundError:\n",
    "    print(\"\\nFile tidak ditemukan.\")\n",
    "except NameError:\n",
    "    print('\"f\" tidak terdefinisi')\n",
    "finally:\n",
    "    f.close()\n",
    "    print(\"\\nFile ditutup.\")"
   ]
  },
  {
   "cell_type": "markdown",
   "metadata": {},
   "source": [
    "***\n",
    "<h1 align=\"center\">WELL DONE</h1>\n",
    " \n",
    "***"
   ]
  }
 ],
 "metadata": {
  "interpreter": {
   "hash": "cd08f94adcf3cbae37fe85286256f4c2a10455ca9094fd053e9f3d3f09647223"
  },
  "kernelspec": {
   "display_name": "Python 3.9.7 64-bit",
   "language": "python",
   "name": "python3"
  },
  "language_info": {
   "codemirror_mode": {
    "name": "ipython",
    "version": 3
   },
   "file_extension": ".py",
   "mimetype": "text/x-python",
   "name": "python",
   "nbconvert_exporter": "python",
   "pygments_lexer": "ipython3",
   "version": "3.9.7"
  },
  "orig_nbformat": 4
 },
 "nbformat": 4,
 "nbformat_minor": 2
}
