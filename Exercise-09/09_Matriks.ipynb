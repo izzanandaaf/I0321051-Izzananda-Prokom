{
 "cells": [
  {
   "cell_type": "markdown",
   "metadata": {},
   "source": [
    "# Exercise 09  \n",
    "### OPERASI MATRIKS  \n",
    "Silahkan lengkapi kode yang rumpang sesuai perintah yang diberikan.\n"
   ]
  },
  {
   "cell_type": "markdown",
   "metadata": {},
   "source": [
    "![](./image/1.png)"
   ]
  },
  {
   "cell_type": "code",
   "execution_count": 3,
   "metadata": {},
   "outputs": [
    {
     "name": "stdout",
     "output_type": "stream",
     "text": [
      "Matriks A :\n",
      " [[1, 2], [3, 4]]\n",
      "Matriks B :\n",
      " [[5, 6], [7, 8]]\n"
     ]
    }
   ],
   "source": [
    "A = [[1,2],\n",
    "     [3,4]]\n",
    "\n",
    "B = [[5,6],\n",
    "     [7,8]]\n",
    "\n",
    "print('Matriks A :\\n', A)\n",
    "print('Matriks B :\\n', B)\n"
   ]
  },
  {
   "cell_type": "markdown",
   "metadata": {},
   "source": [
    "Buatlah matriks menggunakan metode perulangan for dengan ketentuan sebagai berikut:\n",
    "* Matriks A berisi angka sebesar 4 setelah nim kalian. (ex: nim = 12, nilai matriks [16, 16],[16,16])\n",
    "* Matriks B berisi angka sebesar 4 sebelum nim kalian. (ex: nim = 12, nilai matriks [8, 8],[8,8])\n"
   ]
  },
  {
   "cell_type": "code",
   "execution_count": 5,
   "metadata": {},
   "outputs": [
    {
     "name": "stdout",
     "output_type": "stream",
     "text": [
      "[[55, 55], [55, 55]]\n",
      "[[47, 47], [47, 47]]\n"
     ]
    }
   ],
   "source": [
    "def create(matriks, nim):\n",
    "    for i in range(2):\n",
    "        for k in range(2):\n",
    "            matriks[i][k] = nim\n",
    "create(A, 55)\n",
    "create(B, 47)\n",
    "\n",
    "print(A)\n",
    "print(B)"
   ]
  },
  {
   "cell_type": "markdown",
   "metadata": {},
   "source": [
    "## KERJAKAN SOAL BERIKUT\n",
    "1. Buatlah program penjumlahan matriks A dan B.\n",
    "2. Buatlah program pengurangan matriks A dan B.\n",
    "3. Buatlah program perkalian matriks A dan B."
   ]
  },
  {
   "cell_type": "code",
   "execution_count": 6,
   "metadata": {},
   "outputs": [
    {
     "name": "stdout",
     "output_type": "stream",
     "text": [
      "102 102 \n",
      "102 102 \n"
     ]
    }
   ],
   "source": [
    "#SOAL-1\n",
    "#YOUR CODE HERE\n",
    "A = [[55,55],\n",
    "     [55,55]]\n",
    "\n",
    "B = [[47,47],\n",
    "     [47,47]]\n",
    "\n",
    "def penjumlahan_matriks(matriks1, matriks2):\n",
    "    for i in range(len(matriks1)):\n",
    "        for k in range(len(matriks1[0])):\n",
    "            jumlah_matriks = matriks1[i][k] + matriks2[i][k]\n",
    "            print(jumlah_matriks, end = ' ')\n",
    "        print()\n",
    "\n",
    "penjumlahan_matriks(A,B)"
   ]
  },
  {
   "cell_type": "code",
   "execution_count": 3,
   "metadata": {},
   "outputs": [
    {
     "name": "stdout",
     "output_type": "stream",
     "text": [
      "8 8 \n",
      "8 8 \n"
     ]
    }
   ],
   "source": [
    "#SOAL-2\n",
    "#YOUR CODE HERE\n",
    "A = [[55,55],\n",
    "     [55,55]]\n",
    "\n",
    "B = [[47,47],\n",
    "     [47,47]]\n",
    "\n",
    "def pengurangan_matriks(matriks1, matriks2):\n",
    "    for i in range(len(matriks1)):\n",
    "        for k in range(len(matriks1[0])):\n",
    "            jumlah_matriks = matriks1[i][k] - matriks2[i][k]\n",
    "            print(jumlah_matriks, end = ' ')\n",
    "        print()\n",
    "\n",
    "pengurangan_matriks(A,B)"
   ]
  },
  {
   "cell_type": "code",
   "execution_count": 12,
   "metadata": {},
   "outputs": [
    {
     "name": "stdout",
     "output_type": "stream",
     "text": [
      "5170 5170 \n",
      "5170 5170 \n"
     ]
    }
   ],
   "source": [
    "#SOAL-3\n",
    "#YOUR CODE HERE\n",
    "def perkalian_matriks(matriks1, matriks2):\n",
    "    dummy = [] \n",
    "    for x in range(0, len(matriks1)) :\n",
    "        baris = []\n",
    "        for y in range(0, len(matriks1[0])) :\n",
    "            total = 0\n",
    "            for z in range(0, len(matriks1)) :\n",
    "                total = total + (matriks1[x][z] * matriks2[z][y])\n",
    "            baris.append(total)\n",
    "        dummy.append(baris)\n",
    "\n",
    "    for x in range(0, len(dummy)) :\n",
    "        for y in range(0, len(dummy[0])) :\n",
    "            print(dummy[x][y], end=' ')\n",
    "        print()\n",
    "\n",
    "A = [[55,55],\n",
    "     [55,55]]\n",
    "\n",
    "B = [[47,47],\n",
    "     [47,47]]\n",
    "\n",
    "perkalian_matriks(A,B)"
   ]
  },
  {
   "cell_type": "markdown",
   "metadata": {},
   "source": [
    "### Cara Pengumpulan\n",
    "\n",
    "1. Buka *New Terminal*\n",
    "2. Pastikan *path* Terminal adalah folder repositori kalian (NIM-Nama-Prokom).\n",
    "3. Tambahkan file yang akan ditrack dengan `git add <nama file>`. Nama file bisa diubah . (titik)  `git add .`yang artinya semua file dalam folder akan ditrack.\n",
    "4. Lakukan commit perubahan dengan `git commit -m <deskripsi>`.\n",
    "5. Lakukan push dengan `git push -u origin <nama branch>`. Nama branch dapat diketahui dengan `git branch`.\n",
    "6. Pastikan Exercise-02 telah terupload dan dapat diakses di repositori dengan mengaksesnya di browser."
   ]
  }
 ],
 "metadata": {
  "interpreter": {
   "hash": "ac59ebe37160ed0dfa835113d9b8498d9f09ceb179beaac4002f036b9467c963"
  },
  "kernelspec": {
   "display_name": "Python 3.9.8 64-bit",
   "language": "python",
   "name": "python3"
  },
  "language_info": {
   "codemirror_mode": {
    "name": "ipython",
    "version": 3
   },
   "file_extension": ".py",
   "mimetype": "text/x-python",
   "name": "python",
   "nbconvert_exporter": "python",
   "pygments_lexer": "ipython3",
   "version": "3.9.7"
  },
  "orig_nbformat": 4
 },
 "nbformat": 4,
 "nbformat_minor": 2
}
