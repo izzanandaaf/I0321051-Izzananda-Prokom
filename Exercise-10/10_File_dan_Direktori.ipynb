{
 "cells": [
  {
   "cell_type": "markdown",
   "metadata": {},
   "source": [
    "***\n",
    "<h1 align=\"center\">Exercise 10</h1>\n",
    " \n",
    "***\n",
    "## Membaca File per Baris\n",
    "Buka file *puisi.txt* yang ada pada direktori ./data.\n",
    "Buat program seperti di bawah untuk membaca per baris file *puisi.txt*.\n",
    "![](./images/10_openPuisi.png)\n",
    "Kemudian coba jalankan program yang kalian buat."
   ]
  },
  {
   "cell_type": "code",
   "execution_count": 1,
   "metadata": {},
   "outputs": [
    {
     "name": "stdout",
     "output_type": "stream",
     "text": [
      "['Engkau bahkan bukan lagi variabel bagiku\\n', 'Engkau adalah konstanta abadi yang tak tergantikan...']\n"
     ]
    }
   ],
   "source": [
    "# Kerjakan disini\n",
    "file_puisi = open('./data/puisi.txt','r')\n",
    "print(file_puisi.readlines())\n",
    "file_puisi.close()\n",
    "# Jangan hapus kode di bawah ini \n",
    "%reset -f"
   ]
  },
  {
   "cell_type": "markdown",
   "metadata": {},
   "source": [
    "## Membaca Semua Teks dalam File\n",
    "Buat program seperti di bawah untuk membaca semua teks dalam file *puisi.txt*.\n",
    "![](./images/10_puisiRead.png)\n",
    "Kemudian coba jalankan program yang kalian buat."
   ]
  },
  {
   "cell_type": "code",
   "execution_count": 2,
   "metadata": {},
   "outputs": [
    {
     "name": "stdout",
     "output_type": "stream",
     "text": [
      "Engkau bahkan bukan lagi variabel bagiku\n",
      "Engkau adalah konstanta abadi yang tak tergantikan...\n"
     ]
    }
   ],
   "source": [
    "# Kerjakan disini\n",
    "file_puisi = open('./data/puisi.txt','r')\n",
    "puisi = file_puisi.read()\n",
    "print(puisi)\n",
    "file_puisi.close()\n",
    "# Jangan hapus kode di bawah ini \n",
    "%reset -f"
   ]
  },
  {
   "cell_type": "markdown",
   "metadata": {},
   "source": [
    "## Menulis File\n",
    "Buat kode program seperti di bawah!\n",
    "![](./images/10_writeBio.png)\n",
    "Setelah itu, coba jalankan kode yang dibuat dan inputkan contoh data berupa nama, umur, dan alamat (Tidak harus data asli)."
   ]
  },
  {
   "cell_type": "code",
   "execution_count": 4,
   "metadata": {},
   "outputs": [
    {
     "name": "stdout",
     "output_type": "stream",
     "text": [
      "Selamat datang di Program Biodata\n",
      "=================================\n"
     ]
    }
   ],
   "source": [
    "# Kerjakan disini\n",
    "print('Selamat datang di Program Biodata')\n",
    "print('=================================')\n",
    "\n",
    "nama = input('Nama: ')\n",
    "umur = input('Umur: ')\n",
    "alamat = input('Alamat: ')\n",
    "\n",
    "teks = 'Nama: {}\\nUmur: {}\\nAlamat: {}\\n'.format(nama,umur,alamat)\n",
    "\n",
    "file_bio = open('./data/biodata.txt','w')\n",
    "file_bio.write(teks)\n",
    "file_bio.close()\n",
    "\n",
    "# Jangan hapus kode di bawah ini \n",
    "%reset -f"
   ]
  },
  {
   "cell_type": "markdown",
   "metadata": {},
   "source": [
    "Perhatikan bahwa terdapat file baru bernama *biodata.txt* di *./data*. coba buka file tersebut untuk melihat data yang dimasukkan."
   ]
  },
  {
   "cell_type": "markdown",
   "metadata": {},
   "source": [
    "## Menyisipkan File\n",
    "Untuk menyisipkan file, atur mode ketika membuka file menjadi *append*/\"a\".\n",
    "Setelah diubah, jalankan kode tersebut dan inputkan data yang berbeda."
   ]
  },
  {
   "cell_type": "code",
   "execution_count": 5,
   "metadata": {},
   "outputs": [
    {
     "name": "stdout",
     "output_type": "stream",
     "text": [
      "Selamat Datang di Program Biodata\n",
      "=================================\n"
     ]
    }
   ],
   "source": [
    "print(\"Selamat Datang di Program Biodata\")\n",
    "print(\"=================================\")\n",
    "\n",
    "# Mengambil input dari user\n",
    "nama = input(\"Nama: \")\n",
    "umur = input(\"Umur: \")\n",
    "alamat = input(\"Alamat: \")\n",
    "\n",
    "# Format teks\n",
    "teks = \"Nama: {}\\nUmur: {}\\nAlamat: {}\\n\".format(nama, umur, alamat)\n",
    "\n",
    "# Buka file untuk ditulis\n",
    "file_bio = open(\"./data/biodata.txt\",\"a\")\n",
    "\n",
    "# Tulis teks ke dalam file\n",
    "file_bio.write(teks)\n",
    "\n",
    "# Tutup file\n",
    "file_bio.close()\n",
    "\n",
    "%reset -f"
   ]
  },
  {
   "cell_type": "markdown",
   "metadata": {},
   "source": [
    "Buka file *biodata.txt* dan lihat bahwa terdapat entri data baru."
   ]
  },
  {
   "cell_type": "markdown",
   "metadata": {},
   "source": [
    "## Membuat Direktori\n",
    "Buatlah kode program seperti di bawah ini.\n",
    "![](./images/10_membuatDirektori.png)\n",
    "Jalankan program yang telah dibuat."
   ]
  },
  {
   "cell_type": "code",
   "execution_count": 7,
   "metadata": {},
   "outputs": [],
   "source": [
    "# Kerjakan disini\n",
    "import os\n",
    "\n",
    "def main():\n",
    "    os.mkdir('contoh direktori')\n",
    "ifname = 'main'\n",
    "main()\n",
    "%reset -f"
   ]
  },
  {
   "cell_type": "markdown",
   "metadata": {},
   "source": [
    "Perhatikan bahwa sebuah direktori baru berhasil dibuat bernama *contoh direktori*."
   ]
  },
  {
   "cell_type": "markdown",
   "metadata": {},
   "source": [
    "## Mengubah Nama Direktori\n",
    "Buatlah kode program seperti dibawah ini.\n",
    "![](./images/10_renameDirektori.png)\n",
    "Jalankan program yang telah dibuat."
   ]
  },
  {
   "cell_type": "code",
   "execution_count": 12,
   "metadata": {},
   "outputs": [],
   "source": [
    "# Kerjakan disini\n",
    "import os\n",
    "def main():\n",
    "    os.rename('contoh direktori','renamed')\n",
    "ifname = 'main'\n",
    "main()\n",
    "%reset -f"
   ]
  },
  {
   "cell_type": "markdown",
   "metadata": {},
   "source": [
    "Perhatikan bahwa direktori *contoh direktori* telah berubah nama menjadi *renamed*."
   ]
  },
  {
   "cell_type": "markdown",
   "metadata": {},
   "source": [
    "## Menghapus Direktori\n",
    "Buatlah kode program seperti dibawah ini.\n",
    "![](./images/10_removeDirektori.png)\n",
    "Jalankan program yang telah dibuat."
   ]
  },
  {
   "cell_type": "code",
   "execution_count": null,
   "metadata": {},
   "outputs": [],
   "source": [
    "# Kerjakan disini\n",
    "import os\n",
    "\n",
    "def main():\n",
    "    os.rmdir('renamed')\n",
    "ifname = 'main'\n",
    "main()\n",
    "%reset -f"
   ]
  },
  {
   "cell_type": "markdown",
   "metadata": {},
   "source": [
    "Perhatikan bahwa direktori *renamed* telah hilang."
   ]
  },
  {
   "cell_type": "markdown",
   "metadata": {},
   "source": [
    "## Mengumpulkan Tugas\n",
    "Tugas yang telah anda kerjalan perlu di-push ke Repositori Github. Untuk melakukannya, ikuti langkah dibawah ini:\n",
    "1. Buka **New Terminal**\n",
    "2. Pastikan path pada terminal tersebut telah sesuai dengan folder repositori bernama \"NIM-Nama Depan-Prokom\" milik anda. Jika belum sesuai, ketikkan `cd \"<path>\"` pada **Terminal**.\n",
    "3. Ketikkan `git add .` pada **Terminal** untuk menambahkan semua perubahan pada *working directory*.\n",
    "4. Ketikkan `git commit -m \"<kata-kata yang menjelaskan apa yang kalian lakukan>\"` pada **Terminal**, misal `git commit -m \"mengerjakan exercise 01\"`. Hal ini dilakukan untuk menyimpan *snapshot* project dilengkapi dengan pesan deskripsi.\n",
    "5. Ketikkan `git branch`. Maka akan muncul nama *branch working directory* kalian, pada gambar di bawah, nama branchnya adalah <font color='green'>main</font>, tetapi ada kemungkinan juga branch kalian akan bernama <font color='green'>master</font>. Perhatikan nama branch kalian, karena nantinya akan digunakan pada langkah selanjutnya.\n",
    " ![](./images/01_branch.png)\n",
    "5. Ketikkan `git push -u origin <nama branch>` pada **Terminal** untuk meng-*push* perubahan yang dilakukan ke Git *repository*.\n",
    "6. Seharusnya tugas kalian telah ter*upload* kedalam repositori kalian. Kalian dapat memastikannya dengan membuka repositori kalian di browser."
   ]
  },
  {
   "cell_type": "markdown",
   "metadata": {},
   "source": [
    "***\n",
    "<h1 align=\"center\">Well Done!!!</h1> \n",
    "\n",
    "***"
   ]
  }
 ],
 "metadata": {
  "interpreter": {
   "hash": "ac59ebe37160ed0dfa835113d9b8498d9f09ceb179beaac4002f036b9467c963"
  },
  "kernelspec": {
   "display_name": "Python 3.9.8 64-bit",
   "language": "python",
   "name": "python3"
  },
  "language_info": {
   "codemirror_mode": {
    "name": "ipython",
    "version": 3
   },
   "file_extension": ".py",
   "mimetype": "text/x-python",
   "name": "python",
   "nbconvert_exporter": "python",
   "pygments_lexer": "ipython3",
   "version": "3.9.7"
  },
  "orig_nbformat": 4
 },
 "nbformat": 4,
 "nbformat_minor": 2
}
