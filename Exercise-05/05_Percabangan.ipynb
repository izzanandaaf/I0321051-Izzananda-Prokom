{
 "cells": [
  {
   "cell_type": "markdown",
   "metadata": {},
   "source": [
    "***\n",
    "<h1 align=\"center\">Exercise 05</h1>\n",
    " \n",
    "***\n",
    "## If untuk Satu Kasus\n",
    "Buatlah kode seperti berikut:\n",
    "\n",
    "![](./images/05_If1Kasus.png)\n",
    "\n",
    "Masukkan bilangan bulat sesuai dengan **3 digit terakhir nim kalian**."
   ]
  },
  {
   "cell_type": "code",
   "execution_count": 3,
   "metadata": {},
   "outputs": [
    {
     "name": "stdout",
     "output_type": "stream",
     "text": [
      "51 adalah bilangan bulat positif\n"
     ]
    }
   ],
   "source": [
    "# Kerjakan di sini\n",
    "bilangan = int(input('Masukkan bilangan bulat: '))\n",
    "if bilangan > 0 :\n",
    "    print(bilangan, 'adalah bilangan bulat positif')"
   ]
  },
  {
   "cell_type": "markdown",
   "metadata": {},
   "source": [
    "## If untuk Dua Kasus\n",
    "Buatlah kode seperti berikut:\n",
    "\n",
    "![](./images/05_If2Kasus.png)\n",
    "\n",
    "Masukkan bilangan bulat sesuai dengan **3 digit terakhir nim kalian**."
   ]
  },
  {
   "cell_type": "code",
   "execution_count": 4,
   "metadata": {},
   "outputs": [
    {
     "name": "stdout",
     "output_type": "stream",
     "text": [
      "51 adalah bilangan ganjil\n",
      "\n"
     ]
    }
   ],
   "source": [
    "# Kerjakan di sini\n",
    "bilangan = int(input('Masukkan bilangan bulat: '))\n",
    "if bilangan % 2 == 0 :\n",
    "    print('%d adalah bilangan genap' % bilangan)\n",
    "else :\n",
    "    print('%d adalah bilangan ganjil' % bilangan)\n",
    "print()"
   ]
  },
  {
   "cell_type": "markdown",
   "metadata": {},
   "source": [
    "## If untuk Tiga Kasus atau Selebihnya\n",
    "Buatlah kode seperti berikut:\n",
    "\n",
    "![](./images/05_If3Kasus.png)\n",
    "\n",
    "Kemudian jalankan program yang telah dibuat."
   ]
  },
  {
   "cell_type": "code",
   "execution_count": 5,
   "metadata": {},
   "outputs": [
    {
     "name": "stdout",
     "output_type": "stream",
     "text": [
      "Masukkan koordinat!\n",
      "Koordinat (5,2) berada pada kuadran I\n",
      "\n"
     ]
    }
   ],
   "source": [
    "# Kerjakan di sini\n",
    "print('Masukkan koordinat!')\n",
    "x = int(input('Masukkan nilai x: '))\n",
    "y = int(input('Masukkan nilai y: '))\n",
    "info ='Koordinat ('+ str(x) + \",\" + str(y) + ') berada pada kuadran '\n",
    "if x>0 and y>0:\n",
    "    print(info+\"I\")\n",
    "elif x<0 and y>0:\n",
    "    print(info+\"II\")\n",
    "elif x<0 and y<0:\n",
    "    print(info+\"III\")\n",
    "elif x>0 and y<0:\n",
    "    print(info+\"IV\")\n",
    "else:\n",
    "    pass\n",
    "print()"
   ]
  },
  {
   "cell_type": "markdown",
   "metadata": {},
   "source": [
    "Buatlah sebuah program yang dapat digunakan untuk mengecek apakah usia seorang WNI sudah cukup/belum untuk membuat KTP, dengan ketentuan sebagai berikut:\n",
    "* Program harus dapat menerima **input usia** pengguna program\n",
    "* Usia yang diperbolehkan untuk membuat KTP adalah **minimal 17 tahun**\n",
    "* Program menggunakan **percabangan**\n",
    "* Program memberi informasi kepada pengguna apakah ia sudah berhak untuk membuat KTP atau belum"
   ]
  },
  {
   "cell_type": "code",
   "execution_count": 1,
   "metadata": {},
   "outputs": [
    {
     "name": "stdout",
     "output_type": "stream",
     "text": [
      "Anda dapat membuat KTP\n"
     ]
    }
   ],
   "source": [
    "# Kerjakan di sini\n",
    "usia = int(input(\"Umur: \"))\n",
    "\n",
    "if usia >= 17 :\n",
    "    print(\"Anda dapat membuat KTP\")\n",
    "else:\n",
    "    print(\"Anda tidak dapat membuat KTP\")"
   ]
  },
  {
   "cell_type": "markdown",
   "metadata": {},
   "source": [
    "### Cara Pengumpulan\n",
    "\n",
    "1. Buka *New Terminal*\n",
    "2. Pastikan *path* Terminal adalah folder repositori kalian (NIM-Nama-Prokom).\n",
    "3. Tambahkan file yang akan ditrack dengan `git add <nama file>`. Nama file bisa diubah . (titik)  `git add .`yang artinya semua file dalam folder akan ditrack.\n",
    "4. Lakukan commit perubahan dengan `git commit -m <deskripsi>`.\n",
    "5. Lakukan push dengan `git push -u origin <nama branch>`. Nama branch dapat diketahui dengan `git branch`.\n",
    "6. Pastikan Exercise-02 telah terupload dan dapat diakses di repositori dengan mengaksesnya di browser."
   ]
  },
  {
   "cell_type": "markdown",
   "metadata": {},
   "source": [
    "***\n",
    "<h1 align=\"center\">Well Done!!!</h1>\n",
    "\n",
    "***"
   ]
  }
 ],
 "metadata": {
  "interpreter": {
   "hash": "aaa2d32309aa7ce0f397d0e81903e050bd163767a22d0d109bd73d79b6cf4dfe"
  },
  "kernelspec": {
   "display_name": "Python 3.10.2 64-bit",
   "language": "python",
   "name": "python3"
  },
  "language_info": {
   "codemirror_mode": {
    "name": "ipython",
    "version": 3
   },
   "file_extension": ".py",
   "mimetype": "text/x-python",
   "name": "python",
   "nbconvert_exporter": "python",
   "pygments_lexer": "ipython3",
   "version": "3.9.7"
  },
  "orig_nbformat": 4
 },
 "nbformat": 4,
 "nbformat_minor": 2
}
