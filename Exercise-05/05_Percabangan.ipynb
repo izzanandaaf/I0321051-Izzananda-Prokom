{
 "cells": [
  {
   "cell_type": "markdown",
   "metadata": {},
   "source": [
    "***\n",
    "<h1 align=\"center\">Exercise 05</h1>\n",
    " \n",
    "***\n",
    "## If untuk Satu Kasus\n",
    "Buatlah kode seperti berikut:\n",
    "\n",
    "![](./images/05_If1Kasus.png)\n",
    "\n",
    "Masukkan bilangan bulat sesuai dengan **3 digit terakhir nim kalian**."
   ]
  },
  {
   "cell_type": "code",
   "execution_count": null,
   "metadata": {},
   "outputs": [],
   "source": [
    "# Kerjakan di sini\n"
   ]
  },
  {
   "cell_type": "markdown",
   "metadata": {},
   "source": [
    "## If untuk Dua Kasus\n",
    "Buatlah kode seperti berikut:\n",
    "\n",
    "![](./images/05_If2Kasus.png)\n",
    "\n",
    "Masukkan bilangan bulat sesuai dengan **3 digit terakhir nim kalian**."
   ]
  },
  {
   "cell_type": "code",
   "execution_count": null,
   "metadata": {},
   "outputs": [],
   "source": [
    "# Kerjakan di sini\n"
   ]
  },
  {
   "cell_type": "markdown",
   "metadata": {},
   "source": [
    "## If untuk Tiga Kasus atau Selebihnya\n",
    "Buatlah kode seperti berikut:\n",
    "\n",
    "![](./images/05_If3Kasus.png)\n",
    "\n",
    "Kemudian jalankan program yang telah dibuat."
   ]
  },
  {
   "cell_type": "code",
   "execution_count": null,
   "metadata": {},
   "outputs": [],
   "source": [
    "# Kerjakan di sini\n"
   ]
  },
  {
   "cell_type": "markdown",
   "metadata": {},
   "source": [
    "Buatlah sebuah program yang dapat digunakan untuk mengecek apakah usia seorang WNI sudah cukup/belum untuk membuat KTP, dengan ketentuan sebagai berikut:\n",
    "* Program harus dapat menerima **input usia** pengguna program\n",
    "* Usia yang diperbolehkan untuk membuat KTP adalah **minimal 17 tahun**\n",
    "* Program menggunakan **percabangan**\n",
    "* Program memberi informasi kepada pengguna apakah ia sudah berhak untuk membuat KTP atau belum"
   ]
  },
  {
   "cell_type": "code",
   "execution_count": null,
   "metadata": {},
   "outputs": [],
   "source": [
    "# Kerjakan di sini\n"
   ]
  },
  {
   "cell_type": "markdown",
   "metadata": {},
   "source": [
    "### Cara Pengumpulan\n",
    "\n",
    "1. Buka *New Terminal*\n",
    "2. Pastikan *path* Terminal adalah folder repositori kalian (NIM-Nama-Prokom).\n",
    "3. Tambahkan file yang akan ditrack dengan `git add <nama file>`. Nama file bisa diubah . (titik)  `git add .`yang artinya semua file dalam folder akan ditrack.\n",
    "4. Lakukan commit perubahan dengan `git commit -m <deskripsi>`.\n",
    "5. Lakukan push dengan `git push -u origin <nama branch>`. Nama branch dapat diketahui dengan `git branch`.\n",
    "6. Pastikan Exercise-02 telah terupload dan dapat diakses di repositori dengan mengaksesnya di browser."
   ]
  },
  {
   "cell_type": "markdown",
   "metadata": {},
   "source": [
    "***\n",
    "<h1 align=\"center\">Well Done!!!</h1>\n",
    "\n",
    "***"
   ]
  }
 ],
 "metadata": {
  "interpreter": {
   "hash": "aaa2d32309aa7ce0f397d0e81903e050bd163767a22d0d109bd73d79b6cf4dfe"
  },
  "kernelspec": {
   "display_name": "Python 3.10.2 64-bit",
   "language": "python",
   "name": "python3"
  },
  "language_info": {
   "codemirror_mode": {
    "name": "ipython",
    "version": 3
   },
   "file_extension": ".py",
   "mimetype": "text/x-python",
   "name": "python",
   "nbconvert_exporter": "python",
   "pygments_lexer": "ipython3",
   "version": "3.10.2"
  },
  "orig_nbformat": 4
 },
 "nbformat": 4,
 "nbformat_minor": 2
}
