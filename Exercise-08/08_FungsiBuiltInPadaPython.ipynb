{
 "cells": [
  {
   "cell_type": "markdown",
   "metadata": {},
   "source": [
    "# Exercise 8\n",
    "1. Fungsi is_sentence_case merupakan fungsi yang mengembalikan nilai boolean True jika huruf pertama pada input string berupa huruf kapital atau mengembalikan nilai boolean False jika huruf pertama pada input string bukan berupa huruf kapital. Salinlah kode dibawah ini dan lengkapi kode yang rumpang sehingga menghasilkan input yang diinginkan\n",
    "![](./images/08_FungsiFungsiString01.png)"
   ]
  },
  {
   "cell_type": "code",
   "execution_count": 65,
   "metadata": {},
   "outputs": [
    {
     "name": "stdout",
     "output_type": "stream",
     "text": [
      "True\n",
      "False\n"
     ]
    }
   ],
   "source": [
    "#Kerjakan nomor 1 disini\n",
    "def is_sentence_case(str):\n",
    "    if str == str.capitalize():\n",
    "        return True\n",
    "    return False\n",
    "\n",
    "print(is_sentence_case('Aku suka bahasa pemrograman python'))\n",
    "print(is_sentence_case('aku suka bahasa pemrograman python'))"
   ]
  },
  {
   "cell_type": "markdown",
   "metadata": {},
   "source": [
    "2. Fungsi vowel_letters_count merupakan fungsi yang mengembalikan jumlah huruf vokal pada input kalimat. Salinlah kode berikut dan lengkapi kode sehingga menghasilkan output yang diinginkan\n",
    "![](./images/08_FungsiFungsiString02.png)"
   ]
  },
  {
   "cell_type": "code",
   "execution_count": 10,
   "metadata": {},
   "outputs": [
    {
     "name": "stdout",
     "output_type": "stream",
     "text": [
      "12\n"
     ]
    }
   ],
   "source": [
    "#Kerjakan nomor 2 disini\n",
    "def vowel_letters_count(str):\n",
    "    vowel_letters = ['A','a','I','i','U','u','E','e','O','o']\n",
    "    total = 0\n",
    "    for i in range(0,len(vowel_letters)):\n",
    "        total += str.count(vowel_letters[i])\n",
    "    return total\n",
    "\n",
    "print(vowel_letters_count('Mahasiswa Teknik Industri Angkatan 2021'))\n"
   ]
  },
  {
   "cell_type": "markdown",
   "metadata": {},
   "source": [
    "3. Fungsi replace_string merupakan fungsi yang berguna untuk mengganti substring lama pada input kalimat dengan substring baru namun fungsi ini hanya bekerja mengganti substring lama pada akhir kalimat. Salinlah kode berikut dan lengkapi kode yang masih rumpang sehingga menghasilkan output yang diharapkan\n",
    "![](./images/08_FungsiFungsiString03.png)"
   ]
  },
  {
   "cell_type": "code",
   "execution_count": 1,
   "metadata": {},
   "outputs": [
    {
     "name": "stdout",
     "output_type": "stream",
     "text": [
      "Budi memelihara 2 kucing dan 1 anjing\n",
      "Dia memperoleh banyak uang dengan cara menjual perhiasan berlian\n"
     ]
    }
   ],
   "source": [
    "#Kerjakan nomor 3 disini\n",
    "def replace_string(sentence,old,new):\n",
    "    if sentence.endswith(old):\n",
    "        i = len(sentence)-len(old)\n",
    "        new_sentence = sentence[:i] + new\n",
    "        return new_sentence\n",
    "    return sentence\n",
    "\n",
    "print(replace_string('Budi memelihara 2 kucing dan 1 kucing','kucing','anjing'))\n",
    "print(replace_string('Dia memperoleh banyak uang dengan cara menjual perhiasan berlian','Berlian','emas'))\n"
   ]
  },
  {
   "cell_type": "markdown",
   "metadata": {},
   "source": [
    "4. Salinlah kode berikut dan lengkapi kode yang masih rumpang sehingga menghasilkan output yang diharapkan\n",
    "![](./images/08_FungsiFungsiString04.png)"
   ]
  },
  {
   "cell_type": "code",
   "execution_count": 68,
   "metadata": {},
   "outputs": [
    {
     "name": "stdout",
     "output_type": "stream",
     "text": [
      "kalimat1 sebelum perubahan:\n",
      "Praktikum Prokom\n",
      "\n",
      "kalimat1 setelah perubahan\n",
      "****Praktikum Prokom****\n"
     ]
    }
   ],
   "source": [
    "#Kerjakan nomor 4 disini\n",
    "kalimat1 = 'Praktikum Prokom'\n",
    "print('kalimat1 sebelum perubahan:')\n",
    "print(kalimat1)\n",
    "print('\\nkalimat1 setelah perubahan')\n",
    "print(kalimat1.center(24,'*'))"
   ]
  },
  {
   "cell_type": "markdown",
   "metadata": {},
   "source": [
    "5. Salinlah kode berikut\n",
    "![](./images/08_FungsiFungsiString05.png)"
   ]
  },
  {
   "cell_type": "code",
   "execution_count": 69,
   "metadata": {},
   "outputs": [
    {
     "name": "stdout",
     "output_type": "stream",
     "text": [
      "Nomor indeks substring \"prokom\" pada kalimat2 adalah 17\n",
      "Nomor indeks huruf m pada substring \"prokom\" pada kalimat2 adalah 22\n",
      "Nomor indeks substring \"fisdas\" pada kalimat2 adalah 54\n",
      "Nomor indeks huruf d pada substring \"prokom\" pada kalimat2 adalah 57\n"
     ]
    }
   ],
   "source": [
    "#Kerjakan nomor 5 disini\n",
    "kalimat2 = 'Selain praktikum prokom saya juga mengikuti praktikum fisdas'\n",
    "print('Nomor indeks substring \"prokom\" pada kalimat2 adalah', kalimat2.find('prokom'))\n",
    "print('Nomor indeks huruf m pada substring \"prokom\" pada kalimat2 adalah', kalimat2.find('m',17,23))\n",
    "print('Nomor indeks substring \"fisdas\" pada kalimat2 adalah', kalimat2.find('fisdas'))\n",
    "print('Nomor indeks huruf d pada substring \"prokom\" pada kalimat2 adalah', kalimat2.find('d',54,59))"
   ]
  },
  {
   "cell_type": "markdown",
   "metadata": {},
   "source": [
    "6. Untuk meningkatkan pemahaman kalian dalam fungsi-fungsi numerik, salin kode berikut dan lengkapi kode yang masih rumpang tersebut\n",
    "![](./images/08_FungsiFungsiNumerik.png)"
   ]
  },
  {
   "cell_type": "code",
   "execution_count": 70,
   "metadata": {},
   "outputs": [
    {
     "name": "stdout",
     "output_type": "stream",
     "text": [
      "nilai mutlak bilangan1 = 4.39\n",
      "pembulatan ke bawah dari bilangan2 = 7\n",
      "pembulatan ke atas dari bilangan3 = 10\n",
      "nilai max dari 3 bilangan tersebut = 9.13\n",
      "nilai min dari 3 bilangan tersebut = -4.39\n",
      "nilai akar kuadrat dari bilangan3 adalah = 3.0215889859476257\n",
      "random 1 choice = -4.39\n",
      "random 2 choice = 7.51\n",
      "random 3 choice = -4.39\n"
     ]
    }
   ],
   "source": [
    "#Kerjakan nomor 6 disini\n",
    "import math\n",
    "bilangan1 = -4.39\n",
    "bilangan2 = 7.51\n",
    "bilangan3 = 9.13\n",
    "print('nilai mutlak bilangan1 =', abs(bilangan1))\n",
    "print('pembulatan ke bawah dari bilangan2 =', math.floor(bilangan2))\n",
    "print('pembulatan ke atas dari bilangan3 =', math.ceil(bilangan3))\n",
    "print('nilai max dari 3 bilangan tersebut =', max(bilangan1,bilangan2,bilangan3))\n",
    "print('nilai min dari 3 bilangan tersebut =', min(bilangan1,bilangan2,bilangan3))\n",
    "print('nilai akar kuadrat dari bilangan3 adalah =', math.sqrt(bilangan3))\n",
    "\n",
    "import random\n",
    "list = [-4.39,7.51,9.13]\n",
    "print('random 1 choice =', random.choice(list))\n",
    "print('random 2 choice =', random.choice(list))\n",
    "print('random 3 choice =', random.choice(list))"
   ]
  },
  {
   "cell_type": "markdown",
   "metadata": {},
   "source": [
    "7. Untuk meningkatkan pemahaman kalian dalam fungsi-fungsi dictionary, salin kode berikut dan lengkapi kode yang masih rumpang tersebut\n",
    "![](./images/08_FungsiFungsiDictionary.png)"
   ]
  },
  {
   "cell_type": "code",
   "execution_count": 75,
   "metadata": {},
   "outputs": [
    {
     "name": "stdout",
     "output_type": "stream",
     "text": [
      "a = {'satu': 3, 'dua': 4, 'tiga': 5}\n",
      "b = {'satu': 3, 'dua': 4}\n",
      "panjang dict a = 3\n",
      "panjang dict b = 2\n",
      "panjang dict a = 0\n",
      "panjang dict b = 0\n",
      "a = {'satu': 3, 'dua': 4, 'tiga': 5}\n",
      "b = {'satu': 3, 'dua': 4, 'tiga': 5}\n",
      "a = {'satu': 3, 'dua': 4, 'tiga': 5}\n",
      "item = dict_items([('satu', 3), ('dua', 4), ('tiga', 5)])\n",
      "key = dict_keys(['satu', 'dua', 'tiga'])\n",
      "value = dict_values([3, 4, 5])\n"
     ]
    }
   ],
   "source": [
    "#Kerjakan nomor 7 disini\n",
    "a = {'satu' : 3, 'dua' : 4, 'tiga' : 5}\n",
    "b = {'satu' : 3, 'dua' : 4}\n",
    "print('a =', a)\n",
    "print('b =', b)\n",
    "print('panjang dict a =', len(a))\n",
    "print('panjang dict b =', len(b))\n",
    "a.clear()\n",
    "b.clear()\n",
    "print('panjang dict a =', len(a))\n",
    "print('panjang dict b =', len(b))\n",
    "a = {'satu' : 3, 'dua' : 4, 'tiga' : 5}\n",
    "print('a =', a)\n",
    "b = a.copy()\n",
    "print('b =', b)\n",
    "a = {'satu' : 3, 'dua' : 4, 'tiga' : 5}\n",
    "print('a =', a)\n",
    "item = a.items()\n",
    "key = a.keys()\n",
    "value = a.values()\n",
    "print('item =', item)\n",
    "print('key =', key)\n",
    "print('value =', value)"
   ]
  },
  {
   "cell_type": "markdown",
   "metadata": {},
   "source": [
    "8. Untuk meningkatkan pemahaman kalian dalam fungsi-fungsi list, salin kode berikut dan lengkapi kode yang masih rumpang tersebut\n",
    "![](./images/08_FungsiFungsiList01.png)\n",
    "![](./images/08_FungsiFungsiList02.png)"
   ]
  },
  {
   "cell_type": "code",
   "execution_count": 11,
   "metadata": {},
   "outputs": [
    {
     "name": "stdout",
     "output_type": "stream",
     "text": [
      "c = [0, 2, 0, 7, 0, 7]\n",
      "c setelah ditambah = [0, 2, 0, 7, 0, 7, 1, 7]\n",
      "jumlah nilai 0 = 3\n",
      "jumlah nilai 7 = 3\n",
      "index (2) = 1\n",
      "index (7) = 3\n",
      "c = [0, 2, 0, 7, 0, 7, 1]\n",
      "c = [0, 2, 0, 7, 0, 7]\n",
      "c = [0, 0, 7, 0, 7]\n",
      "d = [14]\n",
      "d = [14, 27]\n",
      "d = [99, 14, 27]\n",
      "d = [99, 14, 16, 27]\n",
      "d = [99, 16]\n",
      "e = ['ai', 'oi', 'ei', 'au']\n",
      "e setelah reverse= ['au', 'ei', 'oi', 'ai']\n",
      "e = ['ai', 'au', 'ei', 'oi']\n",
      "e = ['oi', 'ei', 'au', 'ai']\n"
     ]
    }
   ],
   "source": [
    "#Kerjakan nomor 8 disini\n",
    "c = [0,2,0,7,0,7]\n",
    "print('c =', c)\n",
    "c.append(1)\n",
    "c.append(7)\n",
    "print('c setelah ditambah =', c)\n",
    "print('jumlah nilai 0 =', c.count(0))\n",
    "print('jumlah nilai 7 =', c.count(7))\n",
    "print('index (2) =', c.index(2))\n",
    "print('index (7) =', c.index(7))\n",
    "c.pop()\n",
    "print('c =', c)\n",
    "c.pop()\n",
    "print('c =', c)\n",
    "c.pop(1)\n",
    "print('c =', c)\n",
    "\n",
    "d = [14]\n",
    "print('d =', d)\n",
    "d.insert(len(d),27)\n",
    "print('d =', d)\n",
    "d.insert(0,99)\n",
    "print('d =', d)\n",
    "d.insert(2,16)\n",
    "print('d =', d)\n",
    "d.remove(14)\n",
    "d.remove(27)\n",
    "print('d =', d)\n",
    "\n",
    "e =['ai','oi','ei','au']\n",
    "print('e =', e)\n",
    "e.reverse()\n",
    "print('e setelah reverse=', e)\n",
    "e.sort()\n",
    "print('e =', e)\n",
    "e.sort(reverse=True)\n",
    "print('e =', e)\n"
   ]
  },
  {
   "cell_type": "markdown",
   "metadata": {},
   "source": [
    "### Cara Pengumpulan\n",
    "\n",
    "1. Buka *New Terminal*\n",
    "2. Pastikan *path* Terminal adalah folder repositori kalian (NIM-Nama-Prokom).\n",
    "3. Tambahkan file yang akan ditrack dengan `git add <nama file>`. Nama file bisa diubah . (titik) yang artinya semua file dalam folder akan ditrack.\n",
    "4. Lakukan commit perubahan dengan `git commit -m <deskripsi>`.\n",
    "5. Lakukan push dengan `git push -u origin <nama branch>`. Nama branch dapat diketahui dengan `git branch`.\n",
    "6. Pastikan Exercise-08 telah terupload dan dapat diakses di repositori dengan mengaksesnya di browser."
   ]
  },
  {
   "cell_type": "markdown",
   "metadata": {},
   "source": [
    "***\n",
    "<h1 align=\"center\">Well Done!!!</h1> \n",
    "\n",
    "***"
   ]
  }
 ],
 "metadata": {
  "interpreter": {
   "hash": "ac59ebe37160ed0dfa835113d9b8498d9f09ceb179beaac4002f036b9467c963"
  },
  "kernelspec": {
   "display_name": "Python 3.9.8 64-bit",
   "language": "python",
   "name": "python3"
  },
  "language_info": {
   "codemirror_mode": {
    "name": "ipython",
    "version": 3
   },
   "file_extension": ".py",
   "mimetype": "text/x-python",
   "name": "python",
   "nbconvert_exporter": "python",
   "pygments_lexer": "ipython3",
   "version": "3.9.7"
  },
  "orig_nbformat": 4
 },
 "nbformat": 4,
 "nbformat_minor": 2
}
