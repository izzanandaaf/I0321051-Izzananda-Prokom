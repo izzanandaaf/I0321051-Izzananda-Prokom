{
 "cells": [
  {
   "cell_type": "markdown",
   "metadata": {},
   "source": [
    "***\n",
    "<h1 align=\"center\">Exercise 1</h1>\n",
    " \n",
    "***\n",
    "## Mengerjakan Exercise\n",
    "Kalian akan mengerjakan sebagian besar *exercise* pada file berformat **.ipynb**. Petuntuk maupun perintah pengerjaan *exercise* tersedia pada Cell **Markdown** ini dan kalian akan mengerjakkan *exercise* yang sebagian besar merupakan pembuatan kode program pada Cell **Python** dibawah. Sebagai contoh, coba kalian tulis ulang kode program dibawah ini di Cell Python di bawah baris <font color='green'># Kerjakan di bawah</font>.\n",
    "![](./images/01_contoh.png)\n",
    "Untuk memastikan bahwa kode program dapat dijalankan, coba jalankan kode tersebut dengan cara menekan icon 'play' disamping Cell Python seperti berikut:\n",
    "![](./images/01_iconPlay.png)\n",
    "Kalian bisa melihat output dari kode program tersebut tepat di bawah Cell Python tersebut:\n",
    "![](./images/01_output.png)\n",
    "\n",
    "Kerjakan di bawah ↓↓↓"
   ]
  },
  {
   "cell_type": "code",
   "execution_count": 3,
   "metadata": {},
   "outputs": [
    {
     "name": "stdout",
     "output_type": "stream",
     "text": [
      "Hello World\n"
     ]
    }
   ],
   "source": [
    "#  <<<<< Klik button play di samping kiri untuk menjalankannya\n",
    "# Ketikkan print(\"Hello World\") di baris selanjutnya ↓↓↓\n",
    "print (\"Hello World\")"
   ]
  },
  {
   "cell_type": "markdown",
   "metadata": {},
   "source": [
    "Pada saat kalian menjalankan kode program yang membutuhkan input. Kalian bisa menginputkannya pada **Pop up** seperti gambar berikut: ![](./images/01_contohInput.png)\n",
    "Untuk mencobanya, coba kalian jalankan kode Python di bawah dan coba inputkan string <font color='yellow'>Hello World</font>. Kemudian tekan enter."
   ]
  },
  {
   "cell_type": "code",
   "execution_count": 2,
   "metadata": {},
   "outputs": [
    {
     "name": "stdout",
     "output_type": "stream",
     "text": [
      "Hello World\n"
     ]
    }
   ],
   "source": [
    "# <<< Klik play untuk menjalankan kode di bawah\n",
    "print(str(input(\"Ketikkan Pesan: \")))"
   ]
  },
  {
   "cell_type": "markdown",
   "metadata": {},
   "source": [
    "## Mengumpulkan Tugas\n",
    "Tugas yang telah anda kerjalan perlu di-push ke Repositori Github. Untuk melakukannya, ikuti langkah dibawah ini:\n",
    "1. Buka **New Terminal**\n",
    "2. Pastikan path pada terminal tersebut telah sesuai dengan folder repositori bernama \"NIM-Nama Depan-Prokom\" milik anda. Jika belum sesuai, ketikkan `cd \"<path>\"` pada **Terminal**.\n",
    "3. Ketikkan `git add .` pada **Terminal** untuk menambahkan semua perubahan pada *working directory*.\n",
    "4. Ketikkan `git commit -m \"<kata-kata yang menjelaskan apa yang kalian lakukan>\"` pada **Terminal**, misal `git commit -m \"mengerjakan exercise 01\"`. Hal ini dilakukan untuk menyimpan *snapshot* project dilengkapi dengan pesan deskripsi.\n",
    "5. Ketikkan `git branch`. Maka akan muncul nama *branch working directory* kalian, pada gambar di bawah, nama branchnya adalah <font color='green'>main</font>, tetapi ada kemungkinan juga branch kalian akan bernama <font color='green'>master</font>. Perhatikan nama branch kalian, karena nantinya akan digunakan pada langkah selanjutnya.\n",
    " ![](./images/01_branch.png)\n",
    "5. Ketikkan `git push -u origin <nama branch>` pada **Terminal** untuk meng-*push* perubahan yang dilakukan ke Git *repository*.\n",
    "6. Seharusnya tugas kalian telah ter*upload* kedalam repositori kalian. Kalian dapat memastikannya dengan membuka repositori kalian di browser."
   ]
  },
  {
   "cell_type": "markdown",
   "metadata": {},
   "source": [
    "## Mengisi Form\n",
    "Setelah kalian selesai mengerjakkan tugas. Jangan lupa isi form untuk mendata alamat repositori kalian [di sini](https://forms.gle/DfiniLH2MdXjWwzVA) agar asisten dapat mengecek pekerjaan kalian."
   ]
  },
  {
   "cell_type": "markdown",
   "metadata": {},
   "source": [
    "***\n",
    "<h1 align=\"center\">Well Done!!!</h1> \n",
    "\n",
    "***"
   ]
  }
 ],
 "metadata": {
  "interpreter": {
   "hash": "ac59ebe37160ed0dfa835113d9b8498d9f09ceb179beaac4002f036b9467c963"
  },
  "kernelspec": {
   "display_name": "Python 3.9.8 64-bit",
   "language": "python",
   "name": "python3"
  },
  "language_info": {
   "codemirror_mode": {
    "name": "ipython",
    "version": 3
   },
   "file_extension": ".py",
   "mimetype": "text/x-python",
   "name": "python",
   "nbconvert_exporter": "python",
   "pygments_lexer": "ipython3",
   "version": "3.9.7"
  },
  "orig_nbformat": 4
 },
 "nbformat": 4,
 "nbformat_minor": 2
}
