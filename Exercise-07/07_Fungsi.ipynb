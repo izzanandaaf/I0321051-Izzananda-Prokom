{
 "cells": [
  {
   "cell_type": "markdown",
   "metadata": {},
   "source": [
    "***\n",
    "<h1 align=\"center\">Exercise 07</h1>\n",
    "\n",
    "***\n",
    "## Memanggil Fungsi\n",
    "\n",
    "### 1. Fungsi tanpa Nilai Balik\n",
    "Buatlah kode seperti contoh berikut pada cell di bawah\n",
    "> Ubah variabel **cetak** sesuai dengan **umur** kalian!\n",
    "\n",
    "![](./images/07_TanpaNB.png)"
   ]
  },
  {
   "cell_type": "code",
   "execution_count": 1,
   "metadata": {},
   "outputs": [
    {
     "name": "stdout",
     "output_type": "stream",
     "text": [
      "Umur = 18\n"
     ]
    }
   ],
   "source": [
    "#kerjakan disini\n",
    "cetak = 18\n",
    "print(\"Umur =\", cetak)"
   ]
  },
  {
   "cell_type": "markdown",
   "metadata": {},
   "source": [
    "### 2. Fungsi dengan Nilai Balik\n",
    "Buatlah kode seperti contoh berikut pada cell di bawah\n",
    "> Ubah variabel **x** dengan 2 digit terakhir **NIM** kalian!\n",
    "\n",
    "> Ubah variabel **y** dengan **angka 7**!\n",
    "\n",
    "![](./images/07_DenganNB.png)"
   ]
  },
  {
   "cell_type": "code",
   "execution_count": 3,
   "metadata": {},
   "outputs": [
    {
     "name": "stdout",
     "output_type": "stream",
     "text": [
      "x = 51\n",
      "y = 7\n",
      "hasil (x+y) = 58\n"
     ]
    }
   ],
   "source": [
    "#Kerjakan disini!\n",
    "x = 51\n",
    "y = 7\n",
    "print('x =', x)\n",
    "print('y =', y)\n",
    "print('hasil (x+y) =', x+y)"
   ]
  },
  {
   "cell_type": "markdown",
   "metadata": {},
   "source": [
    "## Variabel Global dan Variabel Lokal\n",
    "Buatlah kode seperti contoh berikut pada cell di bawah\n",
    "> Pada variabel global, ubah **nama** menjadi **nama panggilan** kalian!\n",
    "\n",
    "> Pada variabel lokal, ubah **nama** menjadi **nama lengkap** kalian!\n",
    "\n",
    "![](./images/07_GlobalLokal.png)"
   ]
  },
  {
   "cell_type": "code",
   "execution_count": 11,
   "metadata": {},
   "outputs": [],
   "source": [
    "#Kerjakan disini\n",
    "nama = 'Izzan'\n",
    "tahun = '2021'\n",
    "\n",
    "def help():\n",
    "    nama = 'Izzananda Adimas Faza'\n",
    "    tahun = '21'\n",
    "    print('nama = %s' %nama)\n",
    "    print('tahun = %s' %tahun)\n",
    "\n",
    "print('nama = %s' %nama)\n",
    "print('tahun = %s' %tahun)\n",
    "help()"
   ]
  },
  {
   "cell_type": "markdown",
   "metadata": {},
   "source": [
    "## Parameter di Dalam Fungsi\n",
    "Buatlah kode seperti contoh berikut pada cell di bawah\n",
    "\n",
    "![](./images/07_Parameter.png)"
   ]
  },
  {
   "cell_type": "code",
   "execution_count": 12,
   "metadata": {},
   "outputs": [],
   "source": [
    "#Kerjakan disini\n"
   ]
  },
  {
   "cell_type": "markdown",
   "metadata": {},
   "source": [
    "## Fungsi di Dalam Fungsi\n",
    "Buatlah kode seperti contoh berikut pada cell di bawah\n",
    "> Ubah parameter **start_minute** dan **start_second** dengan waktu yang kalian inginkan\n",
    "\n",
    "![](./images/07_FungsidlmFungsi.png)"
   ]
  },
  {
   "cell_type": "code",
   "execution_count": 18,
   "metadata": {},
   "outputs": [],
   "source": [
    "#Kerjakan disini\n"
   ]
  },
  {
   "cell_type": "markdown",
   "metadata": {},
   "source": [
    "## Fungsi yang Mengembalikan Fungsi\n",
    "Buatlah kode seperti contoh berikut pada cell di bawah\n",
    "\n",
    "![](./images/07_Mengembalikan.png)"
   ]
  },
  {
   "cell_type": "code",
   "execution_count": 13,
   "metadata": {},
   "outputs": [],
   "source": [
    "#Kerjakan disini\n"
   ]
  },
  {
   "cell_type": "markdown",
   "metadata": {},
   "source": [
    "## Membuat Fungsi Tanpa Nama dengan Operator Lambda\n",
    "Buatlah kode seperti contoh berikut pada cell di bawah\n",
    "> Ubah list **daftarnama** menjadi tiap **suku kata nama** kalian dengan campuran huruf kapital dan huruf kecil!\n",
    "\n",
    "![](./images/07_Lambda.png)"
   ]
  },
  {
   "cell_type": "code",
   "execution_count": 14,
   "metadata": {},
   "outputs": [],
   "source": [
    "#Kerjakan disini\n"
   ]
  },
  {
   "cell_type": "markdown",
   "metadata": {},
   "source": [
    "## Rekursi\n",
    "Buatlah kode seperti contoh berikut pada cell di bawah\n",
    "> Inputkan bilangan bebas pada kotak kolom di bagian atas\n",
    "\n",
    "![](./images/07_Rekursi.png)"
   ]
  },
  {
   "cell_type": "code",
   "execution_count": 15,
   "metadata": {},
   "outputs": [],
   "source": [
    "#Kerjakan disini\n"
   ]
  },
  {
   "cell_type": "markdown",
   "metadata": {},
   "source": [
    "### Membuat kode\n",
    "Buatlah sebuah program yang dapat mengurutkan nama bulan secara alfabetis, dengan ketentuan sebagai berikut:\n",
    "- Data awal berupa list bulan Januari - Desember dengan huruf awal bervariasi (huruf kapital dan kecil)\n",
    "- Urutkan nama menggunakan **sorted()**\n",
    "- Kemudian urutkan nama sesuai abjad tanpa mepedulikan huruf awal (huruf kapital atau huruf kecil)"
   ]
  },
  {
   "cell_type": "markdown",
   "metadata": {},
   "source": [
    "### Cara Pengumpulan\n",
    "\n",
    "1. Buka *New Terminal*\n",
    "2. Pastikan *path* Terminal adalah folder repositori kalian (NIM-Nama-Prokom).\n",
    "3. Tambahkan file yang akan ditrack dengan `git add <nama file>`. Nama file bisa diubah . (titik) yang artinya semua file dalam folder akan ditrack.\n",
    "4. Lakukan commit perubahan dengan `git commit -m <deskripsi>`.\n",
    "5. Lakukan push dengan `git push -u origin <nama branch>`. Nama branch dapat diketahui dengan `git branch`.\n",
    "6. Pastikan Exercise-07 telah terupload dan dapat diakses di repositori dengan mengaksesnya di browser."
   ]
  },
  {
   "cell_type": "markdown",
   "metadata": {},
   "source": [
    "***\n",
    "<h1 align=\"center\">Well Done!!!</h1> \n",
    "\n",
    "***"
   ]
  }
 ],
 "metadata": {
  "interpreter": {
   "hash": "ac59ebe37160ed0dfa835113d9b8498d9f09ceb179beaac4002f036b9467c963"
  },
  "kernelspec": {
   "display_name": "Python 3.9.8 64-bit",
   "language": "python",
   "name": "python3"
  },
  "language_info": {
   "codemirror_mode": {
    "name": "ipython",
    "version": 3
   },
   "file_extension": ".py",
   "mimetype": "text/x-python",
   "name": "python",
   "nbconvert_exporter": "python",
   "pygments_lexer": "ipython3",
   "version": "3.9.7"
  },
  "orig_nbformat": 4
 },
 "nbformat": 4,
 "nbformat_minor": 2
}
