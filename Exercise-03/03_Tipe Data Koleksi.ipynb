{
 "cells": [
  {
   "cell_type": "markdown",
   "metadata": {},
   "source": [
    "# Exercise 03  \n",
    "### LIST  \n",
    "Berikut merupakan sejumlah latihan untuk kalian dalam praktek programa komputer Modul 3.  \n",
    "Pertama buatlah sebuah list dengan nama variabel \"biodata\" dan isikan elemen terdiri dari :\n",
    "* Nama\n",
    "* NIM\n",
    "* Umur\n",
    "* Kota Asal\n",
    "* Hobi  \n",
    "\n",
    "Berikut contoh yang kami berikan\n"
   ]
  },
  {
   "cell_type": "markdown",
   "metadata": {},
   "source": [
    "![](./image/1.png)"
   ]
  },
  {
   "cell_type": "code",
   "execution_count": 73,
   "metadata": {},
   "outputs": [],
   "source": [
    "#SOAL-1\n",
    "#BUATLAH LIST KALIAN DISINI\n",
    "biodata = [\"Izzananda Adimas Faza\", \"I0321051\", 18, \"Bekasi\", \"Menggambar\"]"
   ]
  },
  {
   "cell_type": "markdown",
   "metadata": {},
   "source": [
    "Sekarang list kalian sudah terdefinisi ke dalam sebuah variabel.  \n",
    "Selanjutnya adalah contoh unuk mengakses elemen list.  \n",
    "  \n",
    "![](./image/2.png)"
   ]
  },
  {
   "cell_type": "code",
   "execution_count": 74,
   "metadata": {},
   "outputs": [
    {
     "name": "stdout",
     "output_type": "stream",
     "text": [
      "BIODATA\n",
      "------------------------------\n",
      "Nama\t: Izzananda Adimas Faza \n",
      "Nim\t: I0321051 \n",
      "Usia\t: 18 \n",
      "Asal\t: Bekasi \n",
      "Hobi\t: Menggambar\n"
     ]
    }
   ],
   "source": [
    "#SOAL-2\n",
    "#TULISKAN KEMBALI KODE DIATAS SESUAI DATA KALIAN MASING-MASING DISINI\n",
    "print(\"BIODATA\\n------------------------------\\nNama\\t:\", biodata[0], \"\\nNim\\t:\", biodata[1],\n",
    "        \"\\nUsia\\t:\", biodata[2], \"\\nAsal\\t:\", biodata[3], \"\\nHobi\\t:\", biodata[4])"
   ]
  },
  {
   "cell_type": "markdown",
   "metadata": {},
   "source": [
    "Ternyata kita ingin menuliskan hobi lebih dari 1, maka selanjutnya kita akan mengubah hobi kita yang ada di list. Karena lebih dari 1 maka kita akan mengubah elemen hobi menjadi list of list.  \n",
    "\n",
    "![](./image/3.png)\n"
   ]
  },
  {
   "cell_type": "code",
   "execution_count": 75,
   "metadata": {},
   "outputs": [
    {
     "name": "stdout",
     "output_type": "stream",
     "text": [
      "['Izzananda Adimas Faza', 'I0321051', 18, 'Bekasi', ['Menggambar', 'Editing', 'Game']]\n"
     ]
    }
   ],
   "source": [
    "#SOAL-3\n",
    "#TULISKAN KEMBALI KODE DIATAS SESUAI HOBI KALIAN DISINI\n",
    "biodata[4] = [\"Menggambar\", \"Editing\", \"Game\"]\n",
    "print(biodata)"
   ]
  },
  {
   "cell_type": "markdown",
   "metadata": {},
   "source": [
    "NIM merupakan data privasi di kondisi tertentu, maka sebaiknya kita menghapus nya.  \n",
    "\n",
    "![](./image/4.png)\n"
   ]
  },
  {
   "cell_type": "code",
   "execution_count": 77,
   "metadata": {},
   "outputs": [
    {
     "name": "stdout",
     "output_type": "stream",
     "text": [
      "['Izzananda Adimas Faza', 18, 'Bekasi', ['Menggambar', 'Editing', 'Game']]\n"
     ]
    }
   ],
   "source": [
    "#SOAL-4\n",
    "#KERJAKAN PUNYA KALIAN DISINI\n",
    "biodata.remove(\"I0321051\")\n",
    "print(biodata)"
   ]
  },
  {
   "cell_type": "markdown",
   "metadata": {},
   "source": [
    "Untuk report final tuliskan kembali kode dengan format output seperti SOAL-2, namun dengan penyesuaian terhadap perubahan yang telah kalian lakukan sebelumnya."
   ]
  },
  {
   "cell_type": "code",
   "execution_count": 78,
   "metadata": {},
   "outputs": [
    {
     "name": "stdout",
     "output_type": "stream",
     "text": [
      "BIODATA\n",
      "------------------------------\n",
      "Nama\t: Izzananda Adimas Faza \n",
      "Usia\t: 18 \n",
      "Asal\t: Bekasi \n",
      "Hobi\t: Menggambar, Editing, Game\n"
     ]
    }
   ],
   "source": [
    "#SOAL-5\n",
    "#Kerjakan disini\n",
    "print(\"BIODATA\\n------------------------------\\nNama\\t:\", biodata[0],\n",
    "        \"\\nUsia\\t:\", biodata[1], \"\\nAsal\\t:\", biodata[2], \"\\nHobi\\t:\", biodata[3][0] + \n",
    "        \", \" + biodata[3][1] + \", \" + biodata[3][2])"
   ]
  },
  {
   "cell_type": "markdown",
   "metadata": {},
   "source": [
    "### DICTIONARY"
   ]
  },
  {
   "cell_type": "markdown",
   "metadata": {},
   "source": [
    "Berikut merupakan latihan mengenai tipe data dictionary.  \n",
    "Selamat berlatih.  \n",
    "Semangat!!!."
   ]
  },
  {
   "cell_type": "code",
   "execution_count": 79,
   "metadata": {},
   "outputs": [
    {
     "name": "stdout",
     "output_type": "stream",
     "text": [
      "Nama Lengkap: Izzananda Adimas Faza\n",
      "{'nama_depan': 'Izzananda', 'nama_belakang': 'Adimas Faza', 'usia': 18, 'kota_asal': 'Bekasi', 'hobi': 'Menggambar', 'prodi': 'Teknik Industri'}\n",
      "{'nama_depan': 'Izzananda', 'nama_belakang': 'Adimas Faza', 'usia': 18, 'kota_asal': 'Bekasi', 'hobi': 'Game', 'prodi': 'Teknik Industri'}\n",
      "{'nama_depan': 'Izzananda', 'nama_belakang': 'Adimas Faza', 'usia': 18, 'hobi': 'Game', 'prodi': 'Teknik Industri'}\n"
     ]
    }
   ],
   "source": [
    "#SILAHKAN ISI CODE RUMPANG BERIKUT SESUAI KONDISI KALIAN\n",
    "biodata = {'nama_depan':'Izzananda','nama_belakang':'Adimas Faza','usia':18,'kota_asal':'Bekasi','hobi':'Menggambar'}\n",
    "print('Nama Lengkap: ' + biodata['nama_depan'] + ' ' + biodata['nama_belakang'])\n",
    "\n",
    "#MENAMBAHKAN KEY&VALUE \"PRODI\" dan \"HOBI\" MASING-MASING\n",
    "biodata['prodi'] = 'Teknik Industri'\n",
    "print(biodata)\n",
    "\n",
    "#MENGUBAH VALUE PADA SEBUAH DICTIONARY\n",
    "biodata['hobi'] = 'Game'\n",
    "print(biodata)\n",
    "\n",
    "#MENGHAPUS SALAH SATU KEY-VALUE PAIRS\n",
    "del biodata['kota_asal']\n",
    "print(biodata)\n",
    "\n",
    "\n",
    "\n",
    "\n"
   ]
  },
  {
   "cell_type": "markdown",
   "metadata": {},
   "source": [
    "### Cara Pengumpulan\n",
    "\n",
    "1. Buka *New Terminal*\n",
    "2. Pastikan *path* Terminal adalah folder repositori kalian (NIM-Nama-Prokom).\n",
    "3. Tambahkan file yang akan ditrack dengan `git add <nama file>`. Nama file bisa diubah . (titik)  `git add .`yang artinya semua file dalam folder akan ditrack.\n",
    "4. Lakukan commit perubahan dengan `git commit -m <deskripsi>`.\n",
    "5. Lakukan push dengan `git push -u origin <nama branch>`. Nama branch dapat diketahui dengan `git branch`.\n",
    "6. Pastikan Exercise-02 telah terupload dan dapat diakses di repositori dengan mengaksesnya di browser."
   ]
  }
 ],
 "metadata": {
  "interpreter": {
   "hash": "ac59ebe37160ed0dfa835113d9b8498d9f09ceb179beaac4002f036b9467c963"
  },
  "kernelspec": {
   "display_name": "Python 3.9.8 64-bit",
   "language": "python",
   "name": "python3"
  },
  "language_info": {
   "name": "python",
   "version": "3.9.8"
  },
  "orig_nbformat": 4
 },
 "nbformat": 4,
 "nbformat_minor": 2
}
